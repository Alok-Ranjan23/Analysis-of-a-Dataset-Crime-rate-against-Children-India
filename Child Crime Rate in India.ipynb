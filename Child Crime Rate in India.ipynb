{
 "cells": [
  {
   "cell_type": "code",
   "execution_count": 1,
   "metadata": {},
   "outputs": [],
   "source": [
    "import csv"
   ]
  },
  {
   "cell_type": "markdown",
   "metadata": {},
   "source": [
    "#### This notebook explores the Crime head-wise persons arrested under crime against children during 2001-2012. \n",
    "* dataset : [link](https://data.world/bhavnachawla/crime-rate-against-children-india-2001-2012)\n",
    "#### Following lines just load the dataset and explores it.\n",
    "#### There are two ways to read the dataset - as dataset is a csv file, either csv library can be used or the famous pandas.\n",
    "#### This notebook uses csv library and read dataset in a list data structure where each element is a dictionary."
   ]
  },
  {
   "cell_type": "code",
   "execution_count": 2,
   "metadata": {},
   "outputs": [],
   "source": [
    "path = 'Crime head-wise persons arrested under crime against children during 2001-2012.csv'\n",
    "f = open(path)"
   ]
  },
  {
   "cell_type": "code",
   "execution_count": 3,
   "metadata": {},
   "outputs": [],
   "source": [
    "reader = csv.reader(f)"
   ]
  },
  {
   "cell_type": "code",
   "execution_count": 4,
   "metadata": {},
   "outputs": [],
   "source": [
    "header = next(reader)"
   ]
  },
  {
   "cell_type": "code",
   "execution_count": 5,
   "metadata": {},
   "outputs": [
    {
     "data": {
      "text/plain": [
       "['STATE/UT',\n",
       " 'CRIME HEAD',\n",
       " '2001',\n",
       " '2002',\n",
       " '2003',\n",
       " '2004',\n",
       " '2005',\n",
       " '2006',\n",
       " '2007',\n",
       " '2008',\n",
       " '2009',\n",
       " '2010',\n",
       " '2011',\n",
       " '2012']"
      ]
     },
     "execution_count": 5,
     "metadata": {},
     "output_type": "execute_result"
    }
   ],
   "source": [
    "header"
   ]
  },
  {
   "cell_type": "code",
   "execution_count": 6,
   "metadata": {},
   "outputs": [],
   "source": [
    "dataset = []\n",
    "for line in reader:\n",
    "    d = dict(zip(header,line))\n",
    "    d['2001'] = int(d['2001'])\n",
    "    d['2002'] = int(d['2002'])\n",
    "    d['2003'] = int(d['2003'])\n",
    "    d['2004'] = int(d['2004'])\n",
    "    d['2005'] = int(d['2005'])\n",
    "    d['2006'] = int(d['2006'])\n",
    "    d['2007'] = int(d['2007'])\n",
    "    d['2008'] = int(d['2008'])\n",
    "    d['2009'] = int(d['2009'])\n",
    "    d['2010'] = int(d['2010'])\n",
    "    d['2011'] = int(d['2011'])\n",
    "    d['2012'] = int(d['2012'])\n",
    "    dataset.append(d)"
   ]
  },
  {
   "cell_type": "code",
   "execution_count": 7,
   "metadata": {},
   "outputs": [
    {
     "data": {
      "text/plain": [
       "{'STATE/UT': 'ANDHRA PRADESH',\n",
       " 'CRIME HEAD': 'INFANTICIDE',\n",
       " '2001': 1,\n",
       " '2002': 1,\n",
       " '2003': 3,\n",
       " '2004': 0,\n",
       " '2005': 0,\n",
       " '2006': 0,\n",
       " '2007': 1,\n",
       " '2008': 0,\n",
       " '2009': 5,\n",
       " '2010': 6,\n",
       " '2011': 1,\n",
       " '2012': 6}"
      ]
     },
     "execution_count": 7,
     "metadata": {},
     "output_type": "execute_result"
    }
   ],
   "source": [
    "dataset[0]"
   ]
  },
  {
   "cell_type": "code",
   "execution_count": 8,
   "metadata": {},
   "outputs": [
    {
     "name": "stdout",
     "output_type": "stream",
     "text": [
      "DATSET SIZE(ROWS IN CSV FILES):  494\n"
     ]
    }
   ],
   "source": [
    "print(\"DATSET SIZE(ROWS IN CSV FILES): \",len(dataset))"
   ]
  },
  {
   "cell_type": "markdown",
   "metadata": {},
   "source": [
    "#### Dataset Ananlysis"
   ]
  },
  {
   "cell_type": "code",
   "execution_count": 9,
   "metadata": {},
   "outputs": [],
   "source": [
    "CRIME_HEAD = []\n",
    "STATE = []\n",
    "for d in dataset:\n",
    "    if not d['CRIME HEAD'] in CRIME_HEAD:\n",
    "        CRIME_HEAD.append(d['CRIME HEAD'])\n",
    "    if not d['STATE/UT'] in STATE:\n",
    "        STATE.append(d['STATE/UT'])"
   ]
  },
  {
   "cell_type": "code",
   "execution_count": 10,
   "metadata": {},
   "outputs": [
    {
     "data": {
      "text/plain": [
       "['INFANTICIDE',\n",
       " 'MURDER OF CHILDREN',\n",
       " 'RAPE OF CHILDREN',\n",
       " 'KIDNAPPING and ABDUCTION OF CHILDREN',\n",
       " 'FOETICIDE',\n",
       " 'ABETMENT OF SUICIDE',\n",
       " 'EXPOSURE AND ABANDONMENT',\n",
       " 'PROCURATION OF MINOR GILRS',\n",
       " 'BUYING OF GIRLS FOR PROSTITUTION',\n",
       " 'SELLING OF GIRLS FOR PROSTITUTION',\n",
       " 'PROHIBITION OF CHILD MARRIAGE ACT',\n",
       " 'OTHER CRIMES AGAINST CHILDREN',\n",
       " ' TOTAL CRIMES AGAINST CHILDREN']"
      ]
     },
     "execution_count": 10,
     "metadata": {},
     "output_type": "execute_result"
    }
   ],
   "source": [
    "CRIME_HEAD"
   ]
  },
  {
   "cell_type": "code",
   "execution_count": 11,
   "metadata": {},
   "outputs": [
    {
     "name": "stdout",
     "output_type": "stream",
     "text": [
      "Categories of crime:  13\n"
     ]
    }
   ],
   "source": [
    "print(\"Categories of crime: \",len(CRIME_HEAD))"
   ]
  },
  {
   "cell_type": "code",
   "execution_count": 12,
   "metadata": {},
   "outputs": [
    {
     "name": "stdout",
     "output_type": "stream",
     "text": [
      "List of STATE/UT :  ['ANDHRA PRADESH', 'ARUNACHAL PRADESH', 'ASSAM', 'BIHAR', 'CHHATTISGARH', 'GOA', 'GUJARAT', 'HARYANA', 'HIMACHAL PRADESH', 'JAMMU & KASHMIR', 'JHARKHAND', 'KARNATAKA', 'KERALA', 'MADHYA PRADESH', 'MAHARASHTRA', 'MANIPUR', 'MEGHALAYA', 'MIZORAM', 'NAGALAND', 'ODISHA', 'PUNJAB', 'RAJASTHAN', 'SIKKIM', 'TAMIL NADU', 'TRIPURA', 'UTTAR PRADESH', 'UTTARAKHAND', 'WEST BENGAL', 'TOTAL (STATES)', 'A & N ISLANDS', 'CHANDIGARH', 'D & N HAVELI', 'DAMAN & DIU', 'DELHI', 'LAKSHADWEEP', 'PUDUCHERRY', 'TOTAL (UTs)', 'TOTAL (ALL-INDIA)']\n"
     ]
    }
   ],
   "source": [
    "print(\"List of STATE/UT : \", STATE)"
   ]
  },
  {
   "cell_type": "markdown",
   "metadata": {},
   "source": [
    "#### Q 1 How many crimes are reported each year in India from 2001 to 2012?"
   ]
  },
  {
   "cell_type": "code",
   "execution_count": 13,
   "metadata": {},
   "outputs": [
    {
     "data": {
      "text/plain": [
       "{'STATE/UT': 'ANDHRA PRADESH',\n",
       " 'CRIME HEAD': 'INFANTICIDE',\n",
       " '2001': 1,\n",
       " '2002': 1,\n",
       " '2003': 3,\n",
       " '2004': 0,\n",
       " '2005': 0,\n",
       " '2006': 0,\n",
       " '2007': 1,\n",
       " '2008': 0,\n",
       " '2009': 5,\n",
       " '2010': 6,\n",
       " '2011': 1,\n",
       " '2012': 6}"
      ]
     },
     "execution_count": 13,
     "metadata": {},
     "output_type": "execute_result"
    }
   ],
   "source": [
    "dataset[0]"
   ]
  },
  {
   "cell_type": "code",
   "execution_count": 14,
   "metadata": {},
   "outputs": [
    {
     "data": {
      "text/plain": [
       "{'STATE/UT': 'TOTAL (ALL-INDIA)',\n",
       " 'CRIME HEAD': ' TOTAL CRIMES AGAINST CHILDREN',\n",
       " '2001': 13401,\n",
       " '2002': 12507,\n",
       " '2003': 13524,\n",
       " '2004': 16663,\n",
       " '2005': 17353,\n",
       " '2006': 20870,\n",
       " '2007': 22432,\n",
       " '2008': 25766,\n",
       " '2009': 26012,\n",
       " '2010': 27403,\n",
       " '2011': 35427,\n",
       " '2012': 42117}"
      ]
     },
     "execution_count": 14,
     "metadata": {},
     "output_type": "execute_result"
    }
   ],
   "source": [
    "Total = {}\n",
    "for d in dataset:\n",
    "    if d['STATE/UT'] == 'TOTAL (ALL-INDIA)' and d['CRIME HEAD'] == ' TOTAL CRIMES AGAINST CHILDREN':\n",
    "        Total = d\n",
    "Total"
   ]
  },
  {
   "cell_type": "code",
   "execution_count": 15,
   "metadata": {},
   "outputs": [],
   "source": [
    "import matplotlib.pyplot as plt"
   ]
  },
  {
   "cell_type": "code",
   "execution_count": 16,
   "metadata": {},
   "outputs": [],
   "source": [
    "X = list(Total.keys())"
   ]
  },
  {
   "cell_type": "code",
   "execution_count": 17,
   "metadata": {},
   "outputs": [],
   "source": [
    "Y = list(Total.values())"
   ]
  },
  {
   "cell_type": "code",
   "execution_count": 18,
   "metadata": {},
   "outputs": [
    {
     "data": {
      "text/plain": [
       "['2001',\n",
       " '2002',\n",
       " '2003',\n",
       " '2004',\n",
       " '2005',\n",
       " '2006',\n",
       " '2007',\n",
       " '2008',\n",
       " '2009',\n",
       " '2010',\n",
       " '2011',\n",
       " '2012']"
      ]
     },
     "execution_count": 18,
     "metadata": {},
     "output_type": "execute_result"
    }
   ],
   "source": [
    "X.pop(0)\n",
    "X.pop(0)\n",
    "X"
   ]
  },
  {
   "cell_type": "code",
   "execution_count": 19,
   "metadata": {},
   "outputs": [
    {
     "data": {
      "text/plain": [
       "([13401,\n",
       "  12507,\n",
       "  13524,\n",
       "  16663,\n",
       "  17353,\n",
       "  20870,\n",
       "  22432,\n",
       "  25766,\n",
       "  26012,\n",
       "  27403,\n",
       "  35427,\n",
       "  42117],\n",
       " 12)"
      ]
     },
     "execution_count": 19,
     "metadata": {},
     "output_type": "execute_result"
    }
   ],
   "source": [
    "Y.pop(0)\n",
    "Y.pop(0)\n",
    "Y,len(Y)"
   ]
  },
  {
   "cell_type": "code",
   "execution_count": 20,
   "metadata": {},
   "outputs": [
    {
     "data": {
      "image/png": "[encoded data removed]",
      "text/plain": [
       "<Figure size 432x288 with 1 Axes>"
      ]
     },
     "metadata": {
      "needs_background": "light"
     },
     "output_type": "display_data"
    }
   ],
   "source": [
    "plt.bar(list(range(0,12)),Y)\n",
    "plt.xticks(list(range(0,12)),X)\n",
    "plt.xlabel(\"Years\")\n",
    "plt.ylim(12000,43000)\n",
    "plt.ylabel(\"Reported Crimes\")\n",
    "plt.title(\"Year-wise reported crime in India from 2001 to 2012\")\n",
    "plt.show()"
   ]
  },
  {
   "cell_type": "markdown",
   "metadata": {},
   "source": [
    "#### Q-2 Rise in reported child crime from 2001 to 2012"
   ]
  },
  {
   "cell_type": "code",
   "execution_count": 21,
   "metadata": {},
   "outputs": [
    {
     "data": {
      "text/plain": [
       "[-894, 1017, 3139, 690, 3517, 1562, 3334, 246, 1391, 8024, 6690]"
      ]
     },
     "execution_count": 21,
     "metadata": {},
     "output_type": "execute_result"
    }
   ],
   "source": [
    "Y_diff = []\n",
    "for i in range(len(Y)):\n",
    "    if not i is 0:\n",
    "        Y_diff.append(Y[i]-Y[i-1])\n",
    "Y_diff"
   ]
  },
  {
   "cell_type": "code",
   "execution_count": 22,
   "metadata": {},
   "outputs": [
    {
     "data": {
      "image/png": "[encoded data removed]",
      "text/plain": [
       "<Figure size 432x288 with 1 Axes>"
      ]
     },
     "metadata": {
      "needs_background": "light"
     },
     "output_type": "display_data"
    }
   ],
   "source": [
    "plt.bar(list(range(0,11)),Y_diff)\n",
    "plt.xticks(list(range(0,11)),list(range(2002,2013,1)))\n",
    "plt.xlabel(\"Period\")\n",
    "plt.ylabel(\"Rise in reported Crimes\")\n",
    "plt.grid()\n",
    "plt.title(\"Year-wise rise in reported crime in India from 2002 to 2012 as compare to previous year\")\n",
    "plt.show()"
   ]
  },
  {
   "cell_type": "markdown",
   "metadata": {},
   "source": [
    "#### Q 3 Which Cateogory of Crime has the highest rate of reporting?"
   ]
  },
  {
   "cell_type": "code",
   "execution_count": 23,
   "metadata": {},
   "outputs": [
    {
     "data": {
      "text/plain": [
       "['INFANTICIDE',\n",
       " 'MURDER OF CHILDREN',\n",
       " 'RAPE OF CHILDREN',\n",
       " 'KIDNAPPING and ABDUCTION OF CHILDREN',\n",
       " 'FOETICIDE',\n",
       " 'ABETMENT OF SUICIDE',\n",
       " 'EXPOSURE AND ABANDONMENT',\n",
       " 'PROCURATION OF MINOR GILRS',\n",
       " 'BUYING OF GIRLS FOR PROSTITUTION',\n",
       " 'SELLING OF GIRLS FOR PROSTITUTION',\n",
       " 'PROHIBITION OF CHILD MARRIAGE ACT',\n",
       " 'OTHER CRIMES AGAINST CHILDREN',\n",
       " ' TOTAL CRIMES AGAINST CHILDREN']"
      ]
     },
     "execution_count": 23,
     "metadata": {},
     "output_type": "execute_result"
    }
   ],
   "source": [
    "CRIME_HEAD"
   ]
  },
  {
   "cell_type": "code",
   "execution_count": 24,
   "metadata": {},
   "outputs": [
    {
     "data": {
      "text/plain": [
       "True"
      ]
     },
     "execution_count": 24,
     "metadata": {},
     "output_type": "execute_result"
    }
   ],
   "source": [
    "len(CRIME_HEAD)*len(STATE) == len(dataset)"
   ]
  },
  {
   "cell_type": "code",
   "execution_count": 25,
   "metadata": {},
   "outputs": [
    {
     "data": {
      "text/plain": [
       "{'STATE/UT': 'TOTAL (ALL-INDIA)',\n",
       " 'CRIME HEAD': 'INFANTICIDE',\n",
       " '2001': 117,\n",
       " '2002': 124,\n",
       " '2003': 84,\n",
       " '2004': 63,\n",
       " '2005': 80,\n",
       " '2006': 87,\n",
       " '2007': 147,\n",
       " '2008': 118,\n",
       " '2009': 40,\n",
       " '2010': 82,\n",
       " '2011': 67,\n",
       " '2012': 68}"
      ]
     },
     "execution_count": 25,
     "metadata": {},
     "output_type": "execute_result"
    }
   ],
   "source": [
    "dataset_India = []\n",
    "for d in dataset:\n",
    "    if d['STATE/UT'] == 'TOTAL (ALL-INDIA)' and not d['CRIME HEAD'] == ' TOTAL CRIMES AGAINST CHILDREN':\n",
    "        dataset_India.append(d)\n",
    "dataset_India[0]"
   ]
  },
  {
   "cell_type": "code",
   "execution_count": 26,
   "metadata": {},
   "outputs": [
    {
     "data": {
      "text/plain": [
       "12"
      ]
     },
     "execution_count": 26,
     "metadata": {},
     "output_type": "execute_result"
    }
   ],
   "source": [
    "len(dataset_India)"
   ]
  },
  {
   "cell_type": "code",
   "execution_count": 27,
   "metadata": {},
   "outputs": [],
   "source": [
    "from operator import itemgetter"
   ]
  },
  {
   "cell_type": "code",
   "execution_count": 28,
   "metadata": {},
   "outputs": [],
   "source": [
    "def sort_list_of_dictionary_key(crime_India,keys):\n",
    "    soretd_crime_India = sorted(crime_India,key=itemgetter(keys),reverse=True)\n",
    "    return soretd_crime_India[0]['CRIME HEAD'],soretd_crime_India[0][keys]"
   ]
  },
  {
   "cell_type": "code",
   "execution_count": 29,
   "metadata": {},
   "outputs": [],
   "source": [
    "CRIME_CATEGORIES = []\n",
    "YEARS = ['2001','2002','2003','2004','2005','2006','2007','2008','2009','2010','2011','2012']\n",
    "NO_OF_CRIMES = []\n",
    "for year in YEARS:\n",
    "    x,y = sort_list_of_dictionary_key(dataset_India,year)\n",
    "    CRIME_CATEGORIES.append(x)\n",
    "    NO_OF_CRIMES.append(y)\n"
   ]
  },
  {
   "cell_type": "code",
   "execution_count": 30,
   "metadata": {},
   "outputs": [
    {
     "data": {
      "text/plain": [
       "['OTHER CRIMES AGAINST CHILDREN',\n",
       " 'OTHER CRIMES AGAINST CHILDREN',\n",
       " 'OTHER CRIMES AGAINST CHILDREN',\n",
       " 'OTHER CRIMES AGAINST CHILDREN',\n",
       " 'OTHER CRIMES AGAINST CHILDREN',\n",
       " 'OTHER CRIMES AGAINST CHILDREN',\n",
       " 'OTHER CRIMES AGAINST CHILDREN',\n",
       " 'OTHER CRIMES AGAINST CHILDREN',\n",
       " 'OTHER CRIMES AGAINST CHILDREN',\n",
       " 'KIDNAPPING and ABDUCTION OF CHILDREN',\n",
       " 'KIDNAPPING and ABDUCTION OF CHILDREN',\n",
       " 'KIDNAPPING and ABDUCTION OF CHILDREN']"
      ]
     },
     "execution_count": 30,
     "metadata": {},
     "output_type": "execute_result"
    }
   ],
   "source": [
    "CRIME_CATEGORIES"
   ]
  },
  {
   "cell_type": "code",
   "execution_count": 31,
   "metadata": {},
   "outputs": [
    {
     "data": {
      "image/png": "[encoded data removed]",
      "text/plain": [
       "<Figure size 432x288 with 1 Axes>"
      ]
     },
     "metadata": {
      "needs_background": "light"
     },
     "output_type": "display_data"
    }
   ],
   "source": [
    "plt.bar(list(range(0,12)),NO_OF_CRIMES)\n",
    "plt.xticks(list(range(0,12)),YEARS)\n",
    "plt.xlabel(\"Years\")\n",
    "plt.ylim(3000,18000)\n",
    "plt.ylabel(\"reported Crimes\")\n",
    "plt.title(\"Year-wise the most reported crime in India from 2002 to 2012\")\n",
    "plt.show()"
   ]
  },
  {
   "cell_type": "markdown",
   "metadata": {},
   "source": [
    "#### Conclusion :Yearwise The Most repoted crime category is 'KIDNAPPING and ABDUCTION OF CHILDREN' from the year 2010 to 2012 and  earlier the category is 'OTHER CRIMES AGAINST CHILDREN'"
   ]
  },
  {
   "cell_type": "markdown",
   "metadata": {},
   "source": [
    "\n",
    "#### Q-4 Which States have the highest reported crime category?"
   ]
  },
  {
   "cell_type": "code",
   "execution_count": 32,
   "metadata": {},
   "outputs": [],
   "source": [
    "def sort_list_of_dictionary_key2(crime_India,keys):\n",
    "    soretd_crime_India = sorted(crime_India,key=itemgetter(keys),reverse=True)\n",
    "    for d in soretd_crime_India:\n",
    "        if not (d['STATE/UT'] == 'TOTAL (ALL-INDIA)' or d['STATE/UT'] == 'TOTAL (UTs)' or d['STATE/UT'] =='TOTAL (STATES)'):\n",
    "            return d['STATE/UT'],d[keys]"
   ]
  },
  {
   "cell_type": "code",
   "execution_count": 33,
   "metadata": {},
   "outputs": [],
   "source": [
    "STATE_OR_UT = []\n",
    "YEARS = ['2001','2002','2003','2004','2005','2006','2007','2008','2009','2010','2011','2012']\n",
    "NO_OF_CRIMES = []\n",
    "for year in YEARS:\n",
    "    x,y = sort_list_of_dictionary_key2(dataset,year)\n",
    "    STATE_OR_UT.append(x)\n",
    "    NO_OF_CRIMES.append(y)"
   ]
  },
  {
   "cell_type": "code",
   "execution_count": 34,
   "metadata": {},
   "outputs": [
    {
     "data": {
      "text/plain": [
       "(12, 12)"
      ]
     },
     "execution_count": 34,
     "metadata": {},
     "output_type": "execute_result"
    }
   ],
   "source": [
    "len(STATE_OR_UT),len(NO_OF_CRIMES)"
   ]
  },
  {
   "cell_type": "code",
   "execution_count": 35,
   "metadata": {},
   "outputs": [],
   "source": [
    "from collections import defaultdict"
   ]
  },
  {
   "cell_type": "code",
   "execution_count": 36,
   "metadata": {},
   "outputs": [],
   "source": [
    "RatingOfSTATE = defaultdict(list)"
   ]
  },
  {
   "cell_type": "code",
   "execution_count": 37,
   "metadata": {},
   "outputs": [
    {
     "data": {
      "text/plain": [
       "defaultdict(list,\n",
       "            {'UTTAR PRADESH': [('2001', 6319),\n",
       "              ('2008', 5760),\n",
       "              ('2011', 8560),\n",
       "              ('2012', 11470)],\n",
       "             'MADHYA PRADESH': [('2002', 3178),\n",
       "              ('2003', 3668),\n",
       "              ('2004', 4530),\n",
       "              ('2005', 4949),\n",
       "              ('2006', 5062),\n",
       "              ('2007', 5305),\n",
       "              ('2009', 5829),\n",
       "              ('2010', 5846)]})"
      ]
     },
     "execution_count": 37,
     "metadata": {},
     "output_type": "execute_result"
    }
   ],
   "source": [
    "j=0\n",
    "k=0\n",
    "for i in STATE_OR_UT:\n",
    "    RatingOfSTATE[i].append((YEARS[j],NO_OF_CRIMES[k]))\n",
    "    j = j + 1\n",
    "    k = k + 1\n",
    "RatingOfSTATE"
   ]
  },
  {
   "cell_type": "markdown",
   "metadata": {},
   "source": [
    "#### Conclusion : There are only two states which reports to the most of the child crimes : UTTAR PRADESH AND MADHYA PRADESH from the span of 2001 to 2012."
   ]
  },
  {
   "cell_type": "markdown",
   "metadata": {},
   "source": [
    "\n",
    "\n",
    "#### Q-5 Which States have the lowest reported child crime category?"
   ]
  },
  {
   "cell_type": "code",
   "execution_count": 38,
   "metadata": {},
   "outputs": [],
   "source": [
    "def sort_list_of_dictionary_key2(crime_India,keys):\n",
    "    soretd_crime_India = sorted(crime_India,key=itemgetter(keys))\n",
    "    for d in soretd_crime_India:\n",
    "        if not (d['STATE/UT'] == 'TOTAL (ALL-INDIA)' or d['STATE/UT'] == 'TOTAL (UTs)' or d['STATE/UT'] =='TOTAL (STATES)'):\n",
    "            return d['STATE/UT'],d[keys]"
   ]
  },
  {
   "cell_type": "code",
   "execution_count": 39,
   "metadata": {},
   "outputs": [],
   "source": [
    "STATE_OR_UT_GOOD = []\n",
    "YEARS = ['2001','2002','2003','2004','2005','2006','2007','2008','2009','2010','2011','2012']\n",
    "NO_OF_CRIMES_LESS = []\n",
    "for year in YEARS:\n",
    "    x,y = sort_list_of_dictionary_key2(dataset,year)\n",
    "    STATE_OR_UT_GOOD.append(x)\n",
    "    NO_OF_CRIMES_LESS.append(y)"
   ]
  },
  {
   "cell_type": "code",
   "execution_count": 40,
   "metadata": {},
   "outputs": [
    {
     "data": {
      "text/plain": [
       "(12, 12)"
      ]
     },
     "execution_count": 40,
     "metadata": {},
     "output_type": "execute_result"
    }
   ],
   "source": [
    "len(STATE_OR_UT_GOOD),len(NO_OF_CRIMES_LESS)"
   ]
  },
  {
   "cell_type": "code",
   "execution_count": 41,
   "metadata": {},
   "outputs": [],
   "source": [
    "from collections import defaultdict"
   ]
  },
  {
   "cell_type": "code",
   "execution_count": 42,
   "metadata": {},
   "outputs": [],
   "source": [
    "RatingOfSTATE2 = defaultdict(list)"
   ]
  },
  {
   "cell_type": "code",
   "execution_count": 43,
   "metadata": {},
   "outputs": [
    {
     "data": {
      "text/plain": [
       "defaultdict(list,\n",
       "            {'ARUNACHAL PRADESH': [('2001', 0),\n",
       "              ('2002', 0),\n",
       "              ('2003', 0),\n",
       "              ('2007', 0),\n",
       "              ('2009', 0),\n",
       "              ('2010', 0),\n",
       "              ('2011', 0),\n",
       "              ('2012', 0)],\n",
       "             'ANDHRA PRADESH': [('2004', 0),\n",
       "              ('2005', 0),\n",
       "              ('2006', 0),\n",
       "              ('2008', 0)]})"
      ]
     },
     "execution_count": 43,
     "metadata": {},
     "output_type": "execute_result"
    }
   ],
   "source": [
    "j=0\n",
    "k=0\n",
    "for i in STATE_OR_UT_GOOD:\n",
    "    RatingOfSTATE2[i].append((YEARS[j],NO_OF_CRIMES_LESS[k]))\n",
    "    j = j + 1\n",
    "    k = k + 1\n",
    "RatingOfSTATE2"
   ]
  },
  {
   "cell_type": "markdown",
   "metadata": {},
   "source": [
    "#### Conclusion: ANDHRA PRADESH and ARUNACHAL PRADESH has the lowest reported crime in atleast one category from the span of 2001 to 2012."
   ]
  }
 ],
 "metadata": {
  "kernelspec": {
   "display_name": "Python 3",
   "language": "python",
   "name": "python3"
  },
  "language_info": {
   "codemirror_mode": {
    "name": "ipython",
    "version": 3
   },
   "file_extension": ".py",
   "mimetype": "text/x-python",
   "name": "python",
   "nbconvert_exporter": "python",
   "pygments_lexer": "ipython3",
   "version": "3.7.3"
  }
 },
 "nbformat": 4,
 "nbformat_minor": 2
}
